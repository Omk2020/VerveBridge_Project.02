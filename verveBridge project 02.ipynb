{
 "cells": [
  {
   "cell_type": "code",
   "execution_count": 1,
   "id": "e3a082bc-1f67-40f4-bc54-3d00dd2065ee",
   "metadata": {},
   "outputs": [],
   "source": [
    "from kafka import KafkaProducer\n",
    "from kafka import KafkaConsumer\n",
    "import json\n"
   ]
  },
  {
   "cell_type": "markdown",
   "id": "0aad0324-ccfe-415b-a4ab-6704adfb4084",
   "metadata": {},
   "source": [
    "## Created a producer script to send transaction data."
   ]
  },
  {
   "cell_type": "code",
   "execution_count": 5,
   "id": "485b70b0-739b-4199-a591-96e5b2cc8f5b",
   "metadata": {},
   "outputs": [],
   "source": [
    "producer = KafkaProducer(bootstrap_servers='localhost:9092', \n",
    "                         value_serializer=lambda v: json.dumps(v).encode('utf-8'))\n",
    "\n",
    "# Example transaction data\n",
    "transaction_data = {\n",
    "    \"transaction_id\": \"12345\",\n",
    "    \"user_id\": \"67890\",\n",
    "    \"transaction_amount\": 250.75,\n",
    "    \"timestamp\": \"2024-09-10 14:32:55\",\n",
    "    \"location\": \"New York, USA\",\n",
    "    \"device_id\": \"abc123\"\n",
    "}\n",
    "\n",
    "producer.send('fraud_detection', value=transaction_data)\n",
    "producer.flush()"
   ]
  },
  {
   "cell_type": "code",
   "execution_count": null,
   "id": "b1fd75c8-bce3-4a86-9a64-f874ad4b932f",
   "metadata": {},
   "outputs": [],
   "source": []
  },
  {
   "cell_type": "markdown",
   "id": "19e9d0aa-6340-473a-95cc-bac8fb816aec",
   "metadata": {},
   "source": [
    "## Create a consumer to read the transaction data in real-time:"
   ]
  },
  {
   "cell_type": "code",
   "execution_count": 10,
   "id": "2ff2fd65-2790-484e-9158-61b8c1823c7d",
   "metadata": {},
   "outputs": [],
   "source": [
    "from kafka import KafkaConsumer\n",
    "import json\n",
    "\n",
    "consumer = KafkaConsumer('fraud_detection', \n",
    "                         bootstrap_servers=['localhost:9092'],\n",
    "                         value_deserializer=lambda x: json.loads(x.decode('utf-8')))"
   ]
  },
  {
   "cell_type": "code",
   "execution_count": null,
   "id": "0959cb80-949f-4ed9-bb9f-a7eb3a399b51",
   "metadata": {},
   "outputs": [],
   "source": []
  },
  {
   "cell_type": "markdown",
   "id": "8b0bb8f9-8e3d-4e38-afbb-b3427cf02b6a",
   "metadata": {},
   "source": [
    "## Create features like time-based and location-based features in real-time."
   ]
  },
  {
   "cell_type": "code",
   "execution_count": 18,
   "id": "ada0d7bf-1d6f-4294-b37e-9c7b2cdc0239",
   "metadata": {},
   "outputs": [
    {
     "name": "stdout",
     "output_type": "stream",
     "text": [
      "            timestamp  transaction_amount  location_change  is_fraud  \\\n",
      "0 2024-09-01 10:00:00                 100                0         0   \n",
      "1 2024-09-01 10:05:00                 150                1         1   \n",
      "\n",
      "   time_since_last  \n",
      "0              NaN  \n",
      "1            300.0  \n"
     ]
    }
   ],
   "source": [
    "import pandas as pd\n",
    "\n",
    "# Define your data dictionary\n",
    "data_dict = {\n",
    "    'timestamp': ['2024-09-01 10:00:00', '2024-09-01 10:05:00'],\n",
    "    'transaction_amount': [100, 150],\n",
    "    'location_change': [0, 1],\n",
    "    'is_fraud': [0, 1]\n",
    "}\n",
    "\n",
    "# Create a DataFrame from the data_dict\n",
    "df = pd.DataFrame(data_dict)\n",
    "\n",
    "# Convert 'timestamp' column to datetime\n",
    "df['timestamp'] = pd.to_datetime(df['timestamp'])\n",
    "\n",
    "# Compute the time difference\n",
    "df['time_since_last'] = df['timestamp'].diff().dt.total_seconds()\n",
    "\n",
    "print(df)"
   ]
  },
  {
   "cell_type": "code",
   "execution_count": null,
   "id": "9818744c-ccef-40f1-a4ce-682ffa8fa433",
   "metadata": {},
   "outputs": [],
   "source": []
  },
  {
   "cell_type": "code",
   "execution_count": 22,
   "id": "b66f8537-2ed9-4b38-b2d9-827234af374b",
   "metadata": {},
   "outputs": [
    {
     "name": "stdout",
     "output_type": "stream",
     "text": [
      "<class 'pandas.core.frame.DataFrame'>\n",
      "            timestamp  transaction_amount  location_change  is_fraud  \\\n",
      "0 2024-09-01 10:00:00                 100                0         0   \n",
      "1 2024-09-01 10:05:00                 150                1         1   \n",
      "\n",
      "   time_since_last  \n",
      "0              NaN  \n",
      "1            300.0  \n"
     ]
    }
   ],
   "source": [
    "# Check the type and content of df\n",
    "print(type(df))  # Should print: <class 'pandas.core.frame.DataFrame'>\n",
    "print(df.head())  # Prints the first few rows of the DataFrame"
   ]
  },
  {
   "cell_type": "code",
   "execution_count": null,
   "id": "1cd0baf5-f534-4e97-a27a-cd55240c44c2",
   "metadata": {},
   "outputs": [],
   "source": []
  },
  {
   "cell_type": "code",
   "execution_count": 25,
   "id": "63d2c272-5160-48b9-a337-247dc10e8ed6",
   "metadata": {},
   "outputs": [
    {
     "name": "stdout",
     "output_type": "stream",
     "text": [
      "Index(['timestamp', 'transaction_amount', 'location_change', 'is_fraud',\n",
      "       'time_since_last'],\n",
      "      dtype='object')\n"
     ]
    }
   ],
   "source": [
    "print(df.columns)"
   ]
  },
  {
   "cell_type": "code",
   "execution_count": 27,
   "id": "b26b9c42-997e-44ed-93bf-30a017970605",
   "metadata": {},
   "outputs": [],
   "source": [
    "X = df.drop(columns='is_fraud')  # Features\n",
    "y = df['is_fraud']  # Target variable"
   ]
  },
  {
   "cell_type": "code",
   "execution_count": 29,
   "id": "a430e51d-2934-4c37-a3fc-e23cda7aa587",
   "metadata": {},
   "outputs": [
    {
     "name": "stdout",
     "output_type": "stream",
     "text": [
      "            timestamp  transaction_amount  location_change  is_fraud  \\\n",
      "0 2024-09-01 10:00:00                 100                0         0   \n",
      "1 2024-09-01 10:05:00                 150                1         1   \n",
      "\n",
      "   time_since_last  \n",
      "0              NaN  \n",
      "1            300.0  \n"
     ]
    }
   ],
   "source": [
    "print(df.head())  # Check the first few rows of df"
   ]
  },
  {
   "cell_type": "code",
   "execution_count": 7,
   "id": "9737896f-cd82-470c-a5f0-cfea657cfa92",
   "metadata": {},
   "outputs": [],
   "source": [
    "import pandas as pd\n",
    "\n",
    "# Define your data dictionary or load from a file\n",
    "data_dict = {\n",
    "    'timestamp': ['2024-09-01 10:00:00', '2024-09-01 10:05:00'],\n",
    "    'transaction_amount': [100, 150],\n",
    "    'time_since_last': [0, 300],  # Ensure this column exists\n",
    "    'location_change': [0, 1],    # Ensure this column exists\n",
    "    'is_fraud': [0, 1]\n",
    "}\n",
    "\n",
    "# Create the DataFrame\n",
    "df = pd.DataFrame(data_dict)\n",
    "\n",
    "# Convert 'timestamp' column to datetime\n",
    "df['timestamp'] = pd.to_datetime(df['timestamp'])"
   ]
  },
  {
   "cell_type": "code",
   "execution_count": null,
   "id": "4a704a77-676d-44b2-8498-bb5202119d16",
   "metadata": {},
   "outputs": [],
   "source": []
  },
  {
   "cell_type": "code",
   "execution_count": 9,
   "id": "bc80990c-b32a-49d6-9cf4-2a27815f8bf6",
   "metadata": {},
   "outputs": [
    {
     "name": "stdout",
     "output_type": "stream",
     "text": [
      "X_train shape: (1, 4)\n",
      "X_test shape: (1, 4)\n",
      "y_train shape: (1,)\n",
      "y_test shape: (1,)\n"
     ]
    }
   ],
   "source": [
    "from sklearn.model_selection import train_test_split\n",
    "\n",
    "# Define features and target\n",
    "X = df.drop(columns='is_fraud')  # Features\n",
    "y = df['is_fraud']  # Target variable\n",
    "\n",
    "# Split the data into training and testing sets\n",
    "X_train, X_test, y_train, y_test = train_test_split(X, y, test_size=0.3, random_state=42)\n",
    "\n",
    "print(\"X_train shape:\", X_train.shape)\n",
    "print(\"X_test shape:\", X_test.shape)\n",
    "print(\"y_train shape:\", y_train.shape)\n",
    "print(\"y_test shape:\", y_test.shape)"
   ]
  },
  {
   "cell_type": "code",
   "execution_count": 11,
   "id": "3e5bd7cd-8041-453f-ab17-0fd1049822ac",
   "metadata": {},
   "outputs": [
    {
     "name": "stdout",
     "output_type": "stream",
     "text": [
      "Training set class distribution:\n",
      "is_fraud\n",
      "0    1\n",
      "Name: count, dtype: int64\n",
      "Test set class distribution:\n",
      "is_fraud\n",
      "1    1\n",
      "Name: count, dtype: int64\n"
     ]
    }
   ],
   "source": [
    "print(\"Training set class distribution:\")\n",
    "print(y_train.value_counts())\n",
    "\n",
    "print(\"Test set class distribution:\")\n",
    "print(y_test.value_counts())"
   ]
  },
  {
   "cell_type": "code",
   "execution_count": null,
   "id": "71907925-37f7-4d5d-8310-768c37251e75",
   "metadata": {},
   "outputs": [],
   "source": []
  },
  {
   "cell_type": "markdown",
   "id": "af2c8c65-60a8-45c6-8db1-b296caad003c",
   "metadata": {},
   "source": [
    "## Develop a machine learning model to classify transactions as fraudulent or legitimate."
   ]
  },
  {
   "cell_type": "code",
   "execution_count": 13,
   "id": "01cd41b5-e99d-40f7-aa92-b42ab6a66c64",
   "metadata": {},
   "outputs": [],
   "source": [
    "from sklearn.ensemble import RandomForestClassifier\n",
    "\n",
    "model = RandomForestClassifier(class_weight='balanced')  # Automatically adjusts weights inversely proportional to class frequencies"
   ]
  },
  {
   "cell_type": "code",
   "execution_count": null,
   "id": "d0d1ae03-f2b1-46c8-b0c3-1f962b14da9b",
   "metadata": {},
   "outputs": [],
   "source": []
  },
  {
   "cell_type": "code",
   "execution_count": 15,
   "id": "8d32e05c-0c3d-472e-a4cf-f5c1bf302312",
   "metadata": {},
   "outputs": [
    {
     "name": "stdout",
     "output_type": "stream",
     "text": [
      "Class distribution in target variable:\n",
      "is_fraud\n",
      "0    1\n",
      "1    1\n",
      "Name: count, dtype: int64\n"
     ]
    }
   ],
   "source": [
    "print(\"Class distribution in target variable:\")\n",
    "print(y.value_counts())"
   ]
  },
  {
   "cell_type": "code",
   "execution_count": null,
   "id": "35a4a0c2-9f77-4c11-80bd-cc9a958a66c9",
   "metadata": {},
   "outputs": [],
   "source": []
  },
  {
   "cell_type": "code",
   "execution_count": 17,
   "id": "82a35ff6-527a-4394-b0b9-ef70d2362912",
   "metadata": {},
   "outputs": [],
   "source": [
    "# Remove classes with only 1 sample\n",
    "min_class_count = y.value_counts().min()\n",
    "if min_class_count < 2:\n",
    "    y = y[y.map(y.value_counts()) > 1]\n",
    "    X = X[y.index]"
   ]
  },
  {
   "cell_type": "code",
   "execution_count": 19,
   "id": "bb91d527-91c7-48dc-b952-0beffa313f4a",
   "metadata": {},
   "outputs": [
    {
     "name": "stdout",
     "output_type": "stream",
     "text": [
      "Shape of X: (2, 0)\n",
      "Length of y: 0\n"
     ]
    }
   ],
   "source": [
    "print(\"Shape of X:\", X.shape)\n",
    "print(\"Length of y:\", len(y))"
   ]
  },
  {
   "cell_type": "code",
   "execution_count": 21,
   "id": "618057ce-7f71-46f0-b573-eee1320b0592",
   "metadata": {},
   "outputs": [
    {
     "name": "stdout",
     "output_type": "stream",
     "text": [
      "Data shape: (2, 5)\n",
      "Columns in data: Index(['timestamp', 'transaction_amount', 'time_since_last', 'location_change',\n",
      "       'is_fraud'],\n",
      "      dtype='object')\n"
     ]
    }
   ],
   "source": [
    "print(\"Data shape:\", df.shape)\n",
    "print(\"Columns in data:\", df.columns)"
   ]
  },
  {
   "cell_type": "code",
   "execution_count": 23,
   "id": "77baab10-99c7-4797-ba01-b243666cfb6f",
   "metadata": {},
   "outputs": [
    {
     "name": "stdout",
     "output_type": "stream",
     "text": [
      "            timestamp  transaction_amount  time_since_last  location_change  \\\n",
      "0 2024-09-01 10:00:00                 100                0                0   \n",
      "1 2024-09-01 10:05:00                 150              300                1   \n",
      "\n",
      "   is_fraud  \n",
      "0         0  \n",
      "1         1  \n"
     ]
    }
   ],
   "source": [
    "print(df.head())"
   ]
  },
  {
   "cell_type": "code",
   "execution_count": 25,
   "id": "071ff981-a22a-4e50-a5e2-abd518ab1e13",
   "metadata": {},
   "outputs": [
    {
     "name": "stdout",
     "output_type": "stream",
     "text": [
      "Missing values in X: Series([], dtype: float64)\n",
      "Missing values in y: 0\n"
     ]
    }
   ],
   "source": [
    "print(\"Missing values in X:\", X.isnull().sum())\n",
    "print(\"Missing values in y:\", y.isnull().sum())"
   ]
  },
  {
   "cell_type": "code",
   "execution_count": 27,
   "id": "7bcb4063-7383-4a56-92e3-0ba6f32790a4",
   "metadata": {},
   "outputs": [],
   "source": [
    "# Example of ensuring alignment\n",
    "valid_indices = X.index.intersection(y.index)\n",
    "X = X.loc[valid_indices]\n",
    "y = y.loc[valid_indices]"
   ]
  },
  {
   "cell_type": "code",
   "execution_count": null,
   "id": "8be70ae9-35f4-4660-8d16-931de09e0cba",
   "metadata": {},
   "outputs": [],
   "source": []
  },
  {
   "cell_type": "code",
   "execution_count": 30,
   "id": "b270228a-e1be-48c1-8ad1-0c9f565287fc",
   "metadata": {},
   "outputs": [
    {
     "name": "stdout",
     "output_type": "stream",
     "text": [
      "Index(['timestamp', 'transaction_amount', 'time_since_last', 'location_change',\n",
      "       'is_fraud'],\n",
      "      dtype='object')\n"
     ]
    }
   ],
   "source": [
    "print(df.columns)"
   ]
  },
  {
   "cell_type": "code",
   "execution_count": null,
   "id": "9fd0f14f-3269-49e2-bcef-a6382f675a59",
   "metadata": {},
   "outputs": [],
   "source": []
  },
  {
   "cell_type": "markdown",
   "id": "6b6df28c-fa4c-47f7-ab87-9c7700b5f14f",
   "metadata": {},
   "source": [
    "## Implement real-time classification in the Kafka pipeline."
   ]
  },
  {
   "cell_type": "code",
   "execution_count": 32,
   "id": "1b9bc31e-0a7f-46ac-8092-bc16efb9b020",
   "metadata": {},
   "outputs": [],
   "source": [
    "data_dict = {\n",
    "    'timestamp': ['2024-09-01 10:00:00', '2024-09-01 10:05:00'],\n",
    "    'transaction_amount': [100, 150],\n",
    "    'location_change': [0, 1],  # Make sure this column exists\n",
    "    'is_fraud': [0, 1]\n",
    "}\n",
    "\n",
    "df = pd.DataFrame(data_dict)"
   ]
  },
  {
   "cell_type": "code",
   "execution_count": 34,
   "id": "016f1d16-9f7c-4806-a41f-14344a9eaced",
   "metadata": {},
   "outputs": [
    {
     "name": "stdout",
     "output_type": "stream",
     "text": [
      "             timestamp  transaction_amount  location_change  is_fraud\n",
      "0  2024-09-01 10:00:00                 100                0         0\n",
      "1  2024-09-01 10:05:00                 150                1         1\n"
     ]
    }
   ],
   "source": [
    "print(df.head())"
   ]
  },
  {
   "cell_type": "code",
   "execution_count": null,
   "id": "6164d461-6f70-4e10-af3f-f166ff8154d1",
   "metadata": {},
   "outputs": [],
   "source": []
  },
  {
   "cell_type": "code",
   "execution_count": null,
   "id": "e89cd906-451b-4d83-aca5-f415a7a0745a",
   "metadata": {},
   "outputs": [
    {
     "name": "stdout",
     "output_type": "stream",
     "text": [
      "Kafka consumer connected successfully.\n"
     ]
    }
   ],
   "source": [
    "from kafka import KafkaConsumer\n",
    "\n",
    "# Replace with your Kafka broker address and topic\n",
    "broker_address = 'localhost:9092'\n",
    "topic_name = 'your_topic'\n",
    "\n",
    "try:\n",
    "    consumer = KafkaConsumer(\n",
    "        topic_name,\n",
    "        bootstrap_servers=broker_address,\n",
    "        auto_offset_reset='earliest',\n",
    "        group_id='your_group_id'\n",
    "    )\n",
    "    \n",
    "    print(\"Kafka consumer connected successfully.\")\n",
    "    \n",
    "    for message in consumer:\n",
    "        print(f\"Received message: {message.value}\")\n",
    "        \n",
    "except Exception as e:\n",
    "    print(f\"An error occurred: {e}\")\n",
    "finally:\n",
    "    if 'consumer' in locals():\n",
    "        consumer.close()"
   ]
  },
  {
   "cell_type": "code",
   "execution_count": null,
   "id": "3048ac90-02f2-4343-88a9-7a72e7421e4e",
   "metadata": {},
   "outputs": [],
   "source": []
  },
  {
   "cell_type": "code",
   "execution_count": 5,
   "id": "362bda1d-8298-48f7-8e83-ae7ddabefd4b",
   "metadata": {},
   "outputs": [],
   "source": [
    "import logging\n",
    "logging.basicConfig(level=logging.DEBUG)"
   ]
  },
  {
   "cell_type": "code",
   "execution_count": null,
   "id": "03ad45fd-0c64-4611-ac37-02b9a636220f",
   "metadata": {},
   "outputs": [],
   "source": []
  },
  {
   "cell_type": "code",
   "execution_count": null,
   "id": "c0b610b9-c64e-4c01-9b78-a0b445e12313",
   "metadata": {},
   "outputs": [],
   "source": []
  },
  {
   "cell_type": "markdown",
   "id": "522eae19-909d-49c8-98e4-4b7356fcc015",
   "metadata": {},
   "source": [
    "## Regularly retrain the model with new data to address evolving fraud patterns."
   ]
  },
  {
   "cell_type": "code",
   "execution_count": 1,
   "id": "03d0a3e9-032c-4dea-8381-11d621f7ea74",
   "metadata": {},
   "outputs": [
    {
     "name": "stdout",
     "output_type": "stream",
     "text": [
      "Model accuracy: 0.9637883008356546\n"
     ]
    }
   ],
   "source": [
    "from imblearn.over_sampling import SMOTE\n",
    "from sklearn.model_selection import train_test_split\n",
    "from sklearn.ensemble import RandomForestClassifier\n",
    "from sklearn.datasets import make_classification\n",
    "\n",
    "# Create a sample dataset (replace this with your actual dataset)\n",
    "X, y = make_classification(n_samples=1000, n_features=20, n_classes=2, weights=[0.9, 0.1], random_state=42)\n",
    "\n",
    "# Apply SMOTE to balance the dataset\n",
    "smote = SMOTE(random_state=42)\n",
    "X_resampled, y_resampled = smote.fit_resample(X, y)\n",
    "\n",
    "# Split the resampled data into training and testing sets\n",
    "X_train, X_test, y_train, y_test = train_test_split(X_resampled, y_resampled, test_size=0.2, random_state=42)\n",
    "\n",
    "# Initialize the model\n",
    "model = RandomForestClassifier(n_estimators=100, random_state=42)\n",
    "\n",
    "# Train the model\n",
    "model.fit(X_train, y_train)\n",
    "\n",
    "# Evaluate the model\n",
    "accuracy = model.score(X_test, y_test)\n",
    "print(f'Model accuracy: {accuracy}')"
   ]
  },
  {
   "cell_type": "code",
   "execution_count": null,
   "id": "ef4bd959-3e2b-4aca-9f8c-5e7ff733dbd8",
   "metadata": {},
   "outputs": [],
   "source": []
  },
  {
   "cell_type": "markdown",
   "id": "5aa7880f-f43a-488b-88c9-f1d94c84e983",
   "metadata": {},
   "source": [
    "## Precision,Recall,F1 Score"
   ]
  },
  {
   "cell_type": "code",
   "execution_count": 3,
   "id": "da53c8ba-c94f-4a47-89b0-e6ff2468ce7e",
   "metadata": {},
   "outputs": [
    {
     "name": "stdout",
     "output_type": "stream",
     "text": [
      "Precision: 0.9887640449438202\n",
      "Recall: 0.9411764705882353\n",
      "F1 Score: 0.9643835616438357\n"
     ]
    }
   ],
   "source": [
    "from sklearn.metrics import precision_score, recall_score, f1_score\n",
    "\n",
    "# Make predictions using the test set\n",
    "y_pred = model.predict(X_test)\n",
    "\n",
    "# Calculate precision, recall, and f1 scores\n",
    "precision = precision_score(y_test, y_pred)\n",
    "recall = recall_score(y_test, y_pred)\n",
    "f1 = f1_score(y_test, y_pred)\n",
    "\n",
    "# Print the scores\n",
    "print(f'Precision: {precision}')\n",
    "print(f'Recall: {recall}')\n",
    "print(f'F1 Score: {f1}')"
   ]
  },
  {
   "cell_type": "code",
   "execution_count": null,
   "id": "ad780465-e2e8-4709-94d4-afa43aac617a",
   "metadata": {},
   "outputs": [],
   "source": []
  },
  {
   "cell_type": "code",
   "execution_count": 3,
   "id": "6423438c-1460-48ae-8022-952e5f74d9b2",
   "metadata": {},
   "outputs": [],
   "source": [
    "from kafka import KafkaProducer\n",
    "import json\n",
    "from datetime import datetime\n",
    "import random\n",
    "\n",
    "producer = KafkaProducer(bootstrap_servers='localhost:9092',\n",
    "                         value_serializer=lambda v: json.dumps(v).encode('utf-8'))\n",
    "\n",
    "# Simulate transactions\n",
    "for _ in range(10):  # Send 10 transactions\n",
    "    transaction = {\n",
    "        \"transaction_id\": str(random.randint(10000, 99999)),\n",
    "        \"user_id\": str(random.randint(1000, 9999)),\n",
    "        \"transaction_amount\": round(random.uniform(10.0, 500.0), 2),\n",
    "        \"timestamp\": datetime.now().strftime('%Y-%m-%d %H:%M:%S'),\n",
    "        \"location\": \"New York, USA\"  # Example location\n",
    "    }\n",
    "    producer.send('transactions', transaction)"
   ]
  },
  {
   "cell_type": "code",
   "execution_count": null,
   "id": "faa087b8-0b0b-46b0-b43d-fc113d1c76a5",
   "metadata": {},
   "outputs": [],
   "source": []
  },
  {
   "cell_type": "code",
   "execution_count": null,
   "id": "a694e195-c955-4d2b-ab06-adc71744c952",
   "metadata": {},
   "outputs": [],
   "source": []
  },
  {
   "cell_type": "code",
   "execution_count": null,
   "id": "e8da11b6-567d-4992-b0d8-af1f0dc1af8c",
   "metadata": {},
   "outputs": [],
   "source": []
  },
  {
   "cell_type": "code",
   "execution_count": null,
   "id": "ac5754e9-69bf-4f84-b891-834ac5e5fdc9",
   "metadata": {},
   "outputs": [],
   "source": [
    "\n"
   ]
  },
  {
   "cell_type": "code",
   "execution_count": null,
   "id": "59b07327-5bf7-4d7d-807b-a12de3d6e3b3",
   "metadata": {},
   "outputs": [],
   "source": []
  }
 ],
 "metadata": {
  "kernelspec": {
   "display_name": "Python 3 (ipykernel)",
   "language": "python",
   "name": "python3"
  },
  "language_info": {
   "codemirror_mode": {
    "name": "ipython",
    "version": 3
   },
   "file_extension": ".py",
   "mimetype": "text/x-python",
   "name": "python",
   "nbconvert_exporter": "python",
   "pygments_lexer": "ipython3",
   "version": "3.12.4"
  }
 },
 "nbformat": 4,
 "nbformat_minor": 5
}
